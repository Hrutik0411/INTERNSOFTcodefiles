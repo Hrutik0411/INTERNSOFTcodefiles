{
 "cells": [
  {
   "cell_type": "code",
   "execution_count": 1,
   "id": "42314f34-e6d7-4853-92df-afe4ebd472ff",
   "metadata": {},
   "outputs": [],
   "source": [
    "import os\n",
    "import time\n",
    "import subprocess\n",
    "import json "
   ]
  },
  {
   "cell_type": "code",
   "execution_count": 3,
   "id": "ac0fcda7-7953-4d07-8181-3902831e6bf0",
   "metadata": {},
   "outputs": [
    {
     "name": "stdout",
     "output_type": "stream",
     "text": [
      "Collecting wolframalpha\n",
      "  Using cached wolframalpha-5.1.3-py3-none-any.whl.metadata (2.4 kB)\n",
      "Collecting xmltodict (from wolframalpha)\n",
      "  Downloading xmltodict-1.0.2-py3-none-any.whl.metadata (15 kB)\n",
      "Collecting more-itertools (from wolframalpha)\n",
      "  Downloading more_itertools-10.8.0-py3-none-any.whl.metadata (39 kB)\n",
      "Collecting jaraco.context (from wolframalpha)\n",
      "  Downloading jaraco.context-6.0.1-py3-none-any.whl.metadata (4.1 kB)\n",
      "Requirement already satisfied: httpx in c:\\users\\hp\\anaconda3\\envs\\py311\\lib\\site-packages (from wolframalpha) (0.28.1)\n",
      "Collecting multidict (from wolframalpha)\n",
      "  Downloading multidict-6.6.4-cp311-cp311-win_amd64.whl.metadata (5.4 kB)\n",
      "Requirement already satisfied: anyio in c:\\users\\hp\\anaconda3\\envs\\py311\\lib\\site-packages (from httpx->wolframalpha) (4.7.0)\n",
      "Requirement already satisfied: certifi in c:\\users\\hp\\anaconda3\\envs\\py311\\lib\\site-packages (from httpx->wolframalpha) (2025.8.3)\n",
      "Requirement already satisfied: httpcore==1.* in c:\\users\\hp\\anaconda3\\envs\\py311\\lib\\site-packages (from httpx->wolframalpha) (1.0.9)\n",
      "Requirement already satisfied: idna in c:\\users\\hp\\anaconda3\\envs\\py311\\lib\\site-packages (from httpx->wolframalpha) (3.10)\n",
      "Requirement already satisfied: h11>=0.16 in c:\\users\\hp\\anaconda3\\envs\\py311\\lib\\site-packages (from httpcore==1.*->httpx->wolframalpha) (0.16.0)\n",
      "Requirement already satisfied: sniffio>=1.1 in c:\\users\\hp\\anaconda3\\envs\\py311\\lib\\site-packages (from anyio->httpx->wolframalpha) (1.3.0)\n",
      "Requirement already satisfied: typing_extensions>=4.5 in c:\\users\\hp\\anaconda3\\envs\\py311\\lib\\site-packages (from anyio->httpx->wolframalpha) (4.15.0)\n",
      "Collecting backports.tarfile (from jaraco.context->wolframalpha)\n",
      "  Downloading backports.tarfile-1.2.0-py3-none-any.whl.metadata (2.0 kB)\n",
      "Using cached wolframalpha-5.1.3-py3-none-any.whl (6.3 kB)\n",
      "Downloading jaraco.context-6.0.1-py3-none-any.whl (6.8 kB)\n",
      "Downloading backports.tarfile-1.2.0-py3-none-any.whl (30 kB)\n",
      "Downloading more_itertools-10.8.0-py3-none-any.whl (69 kB)\n",
      "Downloading multidict-6.6.4-cp311-cp311-win_amd64.whl (46 kB)\n",
      "Downloading xmltodict-1.0.2-py3-none-any.whl (13 kB)\n",
      "Installing collected packages: xmltodict, multidict, more-itertools, backports.tarfile, jaraco.context, wolframalpha\n",
      "\n",
      "   ---------------------------------------- 6/6 [wolframalpha]\n",
      "\n",
      "Successfully installed backports.tarfile-1.2.0 jaraco.context-6.0.1 more-itertools-10.8.0 multidict-6.6.4 wolframalpha-5.1.3 xmltodict-1.0.2\n"
     ]
    }
   ],
   "source": [
    "! pip install wolframalpha"
   ]
  },
  {
   "cell_type": "code",
   "execution_count": 5,
   "id": "980cfa37-ad4b-4b8a-8e5c-e67da9d43526",
   "metadata": {},
   "outputs": [
    {
     "name": "stdout",
     "output_type": "stream",
     "text": [
      "Collecting wikipedia\n",
      "  Downloading wikipedia-1.4.0.tar.gz (27 kB)\n",
      "  Preparing metadata (setup.py): started\n",
      "  Preparing metadata (setup.py): finished with status 'done'\n",
      "Requirement already satisfied: beautifulsoup4 in c:\\users\\hp\\anaconda3\\envs\\py311\\lib\\site-packages (from wikipedia) (4.13.5)\n",
      "Requirement already satisfied: requests<3.0.0,>=2.0.0 in c:\\users\\hp\\anaconda3\\envs\\py311\\lib\\site-packages (from wikipedia) (2.32.5)\n",
      "Requirement already satisfied: charset_normalizer<4,>=2 in c:\\users\\hp\\anaconda3\\envs\\py311\\lib\\site-packages (from requests<3.0.0,>=2.0.0->wikipedia) (3.4.3)\n",
      "Requirement already satisfied: idna<4,>=2.5 in c:\\users\\hp\\anaconda3\\envs\\py311\\lib\\site-packages (from requests<3.0.0,>=2.0.0->wikipedia) (3.10)\n",
      "Requirement already satisfied: urllib3<3,>=1.21.1 in c:\\users\\hp\\anaconda3\\envs\\py311\\lib\\site-packages (from requests<3.0.0,>=2.0.0->wikipedia) (2.5.0)\n",
      "Requirement already satisfied: certifi>=2017.4.17 in c:\\users\\hp\\anaconda3\\envs\\py311\\lib\\site-packages (from requests<3.0.0,>=2.0.0->wikipedia) (2025.8.3)\n",
      "Requirement already satisfied: soupsieve>1.2 in c:\\users\\hp\\anaconda3\\envs\\py311\\lib\\site-packages (from beautifulsoup4->wikipedia) (2.5)\n",
      "Requirement already satisfied: typing-extensions>=4.0.0 in c:\\users\\hp\\anaconda3\\envs\\py311\\lib\\site-packages (from beautifulsoup4->wikipedia) (4.15.0)\n",
      "Building wheels for collected packages: wikipedia\n",
      "  Building wheel for wikipedia (setup.py): started\n",
      "  Building wheel for wikipedia (setup.py): finished with status 'done'\n",
      "  Created wheel for wikipedia: filename=wikipedia-1.4.0-py3-none-any.whl size=11785 sha256=13d46b16fc86d597a3726b6aa5ee526db441fd6d639a2b61fa83bea61c65e209\n",
      "  Stored in directory: c:\\users\\hp\\appdata\\local\\pip\\cache\\wheels\\8f\\ab\\cb\\45ccc40522d3a1c41e1d2ad53b8f33a62f394011ec38cd71c6\n",
      "Successfully built wikipedia\n",
      "Installing collected packages: wikipedia\n",
      "Successfully installed wikipedia-1.4.0\n"
     ]
    },
    {
     "name": "stderr",
     "output_type": "stream",
     "text": [
      "  DEPRECATION: Building 'wikipedia' using the legacy setup.py bdist_wheel mechanism, which will be removed in a future version. pip 25.3 will enforce this behaviour change. A possible replacement is to use the standardized build interface by setting the `--use-pep517` option, (possibly combined with `--no-build-isolation`), or adding a `pyproject.toml` file to the source tree of 'wikipedia'. Discussion can be found at https://github.com/pypa/pip/issues/6334\n"
     ]
    }
   ],
   "source": [
    "!pip install wikipedia"
   ]
  },
  {
   "cell_type": "code",
   "execution_count": 2,
   "id": "1aa63dec-ffe2-4aae-b6a2-7642cc23900c",
   "metadata": {},
   "outputs": [],
   "source": [
    "import wolframalpha\n",
    "import requests\n",
    "import webbrowser\n",
    "import wikipedia\n",
    "import datetime"
   ]
  },
  {
   "cell_type": "code",
   "execution_count": 3,
   "id": "dc502acd-fa73-4c24-add5-d162f4626cee",
   "metadata": {},
   "outputs": [],
   "source": [
    "import speech_recognition as sr"
   ]
  },
  {
   "cell_type": "code",
   "execution_count": 4,
   "id": "cb3e1d3e-9e40-4515-b0ff-5e88b965c6af",
   "metadata": {},
   "outputs": [],
   "source": [
    "import pyttsx3\n"
   ]
  },
  {
   "cell_type": "code",
   "execution_count": 5,
   "id": "610a9a02-d56d-45d3-83ab-1c26ae7a124d",
   "metadata": {},
   "outputs": [
    {
     "name": "stdout",
     "output_type": "stream",
     "text": [
      "LOADING YOUR PERSONAL A.I ASSISTANT JARVIS\n"
     ]
    }
   ],
   "source": [
    "print(\"LOADING YOUR PERSONAL A.I ASSISTANT JARVIS\")"
   ]
  },
  {
   "cell_type": "code",
   "execution_count": 6,
   "id": "0bb63bd7-cd7b-4615-b27d-89637870dd02",
   "metadata": {},
   "outputs": [],
   "source": [
    "engine=pyttsx3.init('sapi5')\n",
    "voices=engine.getProperty('voices')\n",
    "engine.setProperty(\"Voice\",'voices[0].id')"
   ]
  },
  {
   "cell_type": "code",
   "execution_count": 7,
   "id": "f17c8039-9c8a-4c17-a11c-887e05c7a362",
   "metadata": {},
   "outputs": [],
   "source": [
    "def speak(text):\n",
    "    engine.say(text)\n",
    "    engine.runAndWait()"
   ]
  },
  {
   "cell_type": "code",
   "execution_count": 8,
   "id": "fbf597b1-3f68-41f5-9fe5-6b64737601c3",
   "metadata": {},
   "outputs": [],
   "source": [
    "def wishMe():\n",
    "    hour=datetime.datetime.now().hour\n",
    "    if hour>=0 and hour<12:\n",
    "        speak(\"Hello,good morning Mr.Hrutik\")\n",
    "        print(\"Hello,good morning Mr.Hrutik\")\n",
    "    elif hour>=12 and hour<=18:\n",
    "        speak(\"Hello,good Afternoon Mr.Hrutik\")\n",
    "        print(\"Hello,good Afternoon Mr.Hrutik\")\n",
    "    else:\n",
    "        speak(\"Its already the night time better go to sleep\")\n",
    "        print(\"Its already the night time better go to sleep\")\n",
    "        \n",
    "        "
   ]
  },
  {
   "cell_type": "code",
   "execution_count": 9,
   "id": "5bb97efc-4dc1-4d4f-b293-b515f5ca7540",
   "metadata": {},
   "outputs": [],
   "source": [
    "def takeCommand():\n",
    "    r=sr.Recognizer()\n",
    "    with sr.Microphone() as source:\n",
    "        print(\"I am Listening\")\n",
    "        audio=r.listen(source)\n",
    "        \n",
    "        try:\n",
    "            statement=r.recognize_google(audio,language='en-in')\n",
    "            print(f\"user said:{statement}\\n\")\n",
    "\n",
    "        except Exception as e:\n",
    "            speak(\"Pardon me , please say thart again\")\n",
    "            return \"None\"\n",
    "        return statement\n",
    "        "
   ]
  },
  {
   "cell_type": "code",
   "execution_count": 10,
   "id": "e4edbbb9-2236-4c1a-bc3c-22e7f3e8eec1",
   "metadata": {},
   "outputs": [
    {
     "name": "stdout",
     "output_type": "stream",
     "text": [
      "Its already the night time better go to sleep\n"
     ]
    }
   ],
   "source": [
    "speak(\"LOADING YOUR PERSONAL AI ASSISTANT JARVIS\")\n",
    "wishMe()"
   ]
  },
  {
   "cell_type": "code",
   "execution_count": null,
   "id": "876538cd-6405-485b-83e4-db162bb7a934",
   "metadata": {
    "scrolled": true
   },
   "outputs": [
    {
     "name": "stdout",
     "output_type": "stream",
     "text": [
      "I am Listening\n",
      "I am Listening\n",
      "I am Listening\n",
      "I am Listening\n"
     ]
    }
   ],
   "source": [
    "if __name__=='__main__':\n",
    "    while True:\n",
    "        speak(\"How can I help you?\")\n",
    "        statement=takeCommand().lower()\n",
    "        if statement==0:\n",
    "            continue\n",
    "        if \"good bye\" in statement or \"ok bye\" in statement or \"stop\" in statement:\n",
    "            speak(\"Your personal ai assistant jarvis is shutting down,Good bye\")\n",
    "            print(\"Your personal ai assistant jarvis is shutting down,Good bye\")\n",
    "            break\n",
    "        if \"wikipedia\" in statement :\n",
    "            speak(\"searching wikipedia....\")\n",
    "            statement=statement.replace(\"wikipedia\",\" \")\n",
    "            results = wikipedia.summary(statement,sentence=3)\n",
    "            speak(\"According to wikipedia.....\")\n",
    "            print(results)\n",
    "            speak(resutls)\n",
    "        elif \"open youtube\" in statement:\n",
    "            webbrowser.open_new_tab(\"https://www.youtube.com\")\n",
    "            speak(\"Youtube is open for you\")\n",
    "            time.sleep(5)\n",
    "        elif \"open google\" in statement:\n",
    "            webbrowser.open_new_tab(\"https://www.google.com\")\n",
    "            speak(\"Google is open for you\")\n",
    "            time.sleep(5)\n",
    "        elif \"open gmail\" in statement:\n",
    "            webbrowser.open_new_tab(\"https://www.gmail.com\")\n",
    "            speak(\"Gmail is open for you\")\n",
    "            time.sleep(5)\n",
    "        elif \"weather\" in statement:\n",
    "            api_key=\"8ef61edcf1c576d65d836254e11ea420\"\n",
    "            base_url = \"https://api.openweathermap.org/data/2.5/weather?\"\n",
    "            speak(\"Whats the city name\")\n",
    "            city_name=takecommand()\n",
    "            complete_url=base_url+\"appid=\"+api_key+\"&q=\"+city_name\n",
    "            response=requests.get(complete_url)\n",
    "            x=response.json()\n",
    "            if x[\"cod\"] != \"404\":\n",
    "                y=x[\"main\"]\n",
    "                current_temperature=y[\"temp\"]\n",
    "                current_humidity=y[\"humidity\"]\n",
    "                z=x[\"weather\"]\n",
    "                weather_description=z[0][\"description\"]\n",
    "                speak(\"The temperature in kelvin units is\"+str(current_temperature)+\"\\n humidity in peercentage is\"+ str(current_humidity)+\"\\n weather description\"+str(weather_description)) \n",
    "                print(\"The temperature in kelvin units is\"+str(current_temperature)+\"\\n humidity in peercentage is\"+str(current_humidity)+\"\\n weather description\"+str(weather_description)) \n",
    "            else:\n",
    "                speak(\"City not found\")\n",
    "                print(\"City not Found\")\n",
    "        elif \"time\" in statement:\n",
    "            strTime=datetime.datetime.now().strftime(\"%H:%M:%S\")\n",
    "            speak(f\"the time is {strTime}\")\n",
    "        elif \"who are you\" in statement or \"What can you do\" in statement:\n",
    "            speak(\"I am your Jarvis 1 point o\")\n",
    "        elif \"who made you\" in statement or \"who created you\" in statement or \"who discovered you\" in statement:\n",
    "            speak(\"I  was built by a man\")\n",
    "            print(\"I  was built by a man\")\n",
    "        elif \"open stack overflow\" in statement :\n",
    "            webbrowser.open_new_tab(\"https://stackoverflow.com/login\")\n",
    "            time.sleep(5)\n",
    "time.sleep(3)"
   ]
  },
  {
   "cell_type": "code",
   "execution_count": 23,
   "id": "81c1986e-8ee9-4f9c-aade-b47ee30c6768",
   "metadata": {},
   "outputs": [
    {
     "data": {
      "text/plain": [
       "''"
      ]
     },
     "execution_count": 23,
     "metadata": {},
     "output_type": "execute_result"
    }
   ],
   "source": [
    "_"
   ]
  },
  {
   "cell_type": "code",
   "execution_count": null,
   "id": "30eca563-7269-4dfa-be7c-e99400fbf0bc",
   "metadata": {},
   "outputs": [],
   "source": []
  }
 ],
 "metadata": {
  "kernelspec": {
   "display_name": "Python [conda env:py311]",
   "language": "python",
   "name": "conda-env-py311-py"
  },
  "language_info": {
   "codemirror_mode": {
    "name": "ipython",
    "version": 3
   },
   "file_extension": ".py",
   "mimetype": "text/x-python",
   "name": "python",
   "nbconvert_exporter": "python",
   "pygments_lexer": "ipython3",
   "version": "3.11.13"
  }
 },
 "nbformat": 4,
 "nbformat_minor": 5
}
